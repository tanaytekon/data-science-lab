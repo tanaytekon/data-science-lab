{
 "cells": [
  {
   "cell_type": "markdown",
   "id": "c61025bb",
   "metadata": {},
   "source": [
    "# Implementation of clustering algorithms\n",
    "\n",
    "Build K-Means and Agglomerative Clustering models to perform an unsupervised clustering by using given data. Follow below steps as a guideline for building your model and explain each of them in code lines. \n",
    "\n",
    "* Data cleaning \n",
    "\n",
    "Start with data cleaning to ensure that your data is correct, consistent and usable. The techniques used for data cleaning may vary but you can consider to follow these basic steps: handling missing values, encoding categorical features, extracting useful features by using existing features, handling outliers etc.\n",
    "\n",
    "* Data Preprocessing\n",
    "\n",
    "In this step you should transform raw data into an understandable format for machine learning algorithms. This step may include scaling the features, performing dimensionality reduction etc.\n",
    "\n",
    "* Clustering \n",
    "\n",
    "The goal of this step is to find distinct groups or “clusters” within a data set by using K-Means and Agglomerative Clustering Algorithms. Apply Elbow Method to determine the number of clusters. After building models, examine and comment the clusters formed via scatter plot.\n",
    "\n",
    "* Silhouette Scores \n",
    "\n",
    "To evaluate how “well clustered” data points are, use the “silhouette score” and plot the Silhouette Scores for all of data points.\n",
    "\n",
    "Note: Don't forget to explain your codes and comment on the obtained result."
   ]
  }
 ],
 "metadata": {
  "kernelspec": {
   "display_name": "Python 3",
   "language": "python",
   "name": "python3"
  },
  "language_info": {
   "codemirror_mode": {
    "name": "ipython",
    "version": 3
   },
   "file_extension": ".py",
   "mimetype": "text/x-python",
   "name": "python",
   "nbconvert_exporter": "python",
   "pygments_lexer": "ipython3",
   "version": "3.8.8"
  }
 },
 "nbformat": 4,
 "nbformat_minor": 5
}
