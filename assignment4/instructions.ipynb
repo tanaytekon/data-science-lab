{
 "cells": [
  {
   "cell_type": "markdown",
   "id": "77dce0ea",
   "metadata": {},
   "source": [
    "\n",
    "\n",
    "Build **kNN** and **logistic regression** classifiers using sklearn library to predict \"passed\" (label variable) by using given data. \n",
    "- Start the project with data processing such as converting non-numeric values to numerical ones,  data normalization, etc.\n",
    "- Explore and analyze the data using feature visualization such as correlation heatmap, and distribution plots by commenting on your findings. Choose min. 3 features for the visualization step. \n",
    "- Then, shuffle and split your data into train and test sets randomly, with a ratio of 70:30. (Write your own shuffling and spliting code, do not use predefined function train_test_split).\n",
    "- Build your models (with proper comments and explanations) using the training set.\n",
    "- Compare these 2 classification models according to their accuracies (you can print accuracy values in a single table as a comprehensive view) over the test set. Comment on their classification performance.\n",
    "- Plot confusion matrices for your models over the test set, and comment on the outcomes. \n",
    "- Finally, plot Precision-Recall (PR) curves for each classification model over the test set and evaluate/comment the prediction performance of each classifier. \n",
    "\n",
    "Notes:\n",
    "\n",
    "* Choose the optimal k value using Minkowski distance (by trying two different p-values) for the kNN model.\n",
    "\n",
    "\n",
    "* **Don't forget to add comments to your code lines to explain how your program works, and your intentions behind it. Also, do not forget to comment on the outcomes and comparisons.** "
   ]
  }
 ],
 "metadata": {
  "kernelspec": {
   "display_name": "Python 3 (ipykernel)",
   "language": "python",
   "name": "python3"
  },
  "language_info": {
   "codemirror_mode": {
    "name": "ipython",
    "version": 3
   },
   "file_extension": ".py",
   "mimetype": "text/x-python",
   "name": "python",
   "nbconvert_exporter": "python",
   "pygments_lexer": "ipython3",
   "version": "3.8.13"
  }
 },
 "nbformat": 4,
 "nbformat_minor": 5
}
